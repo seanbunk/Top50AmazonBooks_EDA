{
 "cells": [
  {
   "cell_type": "markdown",
   "id": "68082356",
   "metadata": {},
   "source": [
    "<font size=5><b>Data Analysis of Amazon Top 50 Bestselling Books from 2009-2011 using SQLITE</b></font>"
   ]
  },
  {
   "cell_type": "code",
   "execution_count": 1,
   "id": "36b0070e",
   "metadata": {},
   "outputs": [
    {
     "data": {
      "text/plain": [
       "550"
      ]
     },
     "execution_count": 1,
     "metadata": {},
     "output_type": "execute_result"
    }
   ],
   "source": [
    "import sqlite3\n",
    "import pandas as pd\n",
    "\n",
    "file_path = '/Users/seanbunk/Desktop/Data_Projects/SQLite3/Top50AmazonBooksEDA/bestsellers with categories 2.csv'\n",
    "data = pd.read_csv(file_path)\n",
    "\n",
    "connection = sqlite3.connect('my_books.db')\n",
    "\n",
    "data.to_sql('bestsellers', connection, if_exists= 'replace', index = False)\n",
    "\n"
   ]
  },
  {
   "cell_type": "code",
   "execution_count": 2,
   "id": "f1a47c63",
   "metadata": {},
   "outputs": [
    {
     "name": "stdout",
     "output_type": "stream",
     "text": [
      "                                                Name  \\\n",
      "0                      10-Day Green Smoothie Cleanse   \n",
      "1                                  11/22/63: A Novel   \n",
      "2            12 Rules for Life: An Antidote to Chaos   \n",
      "3                             1984 (Signet Classics)   \n",
      "4  5,000 Awesome Facts (About Everything!) (Natio...   \n",
      "\n",
      "                     Author  User Rating  Reviews  Price  Year        Genre  \n",
      "0                  JJ Smith          4.7    17350      8  2016  Non Fiction  \n",
      "1              Stephen King          4.6     2052     22  2011      Fiction  \n",
      "2        Jordan B. Peterson          4.7    18979     15  2018  Non Fiction  \n",
      "3             George Orwell          4.7    21424      6  2017      Fiction  \n",
      "4  National Geographic Kids          4.8     7665     12  2019  Non Fiction  \n"
     ]
    }
   ],
   "source": [
    "query = 'SELECT * FROM bestsellers'\n",
    "df = pd.read_sql_query(query, connection)\n",
    "\n",
    "print(df.head())"
   ]
  },
  {
   "cell_type": "code",
   "execution_count": 3,
   "id": "ead3fa94",
   "metadata": {},
   "outputs": [
    {
     "name": "stdout",
     "output_type": "stream",
     "text": [
      "   Missing_Names  Missing_Authors  Missing_User_Ratings  Missing_Reviews  \\\n",
      "0              0                0                     0                0   \n",
      "\n",
      "   Missing_Prices  MIssing_Years  Missing_Genres  \n",
      "0               0              0               0  \n"
     ]
    }
   ],
   "source": [
    "#Check for missing values\n",
    "query = \"\"\" SELECT\n",
    "    SUM(CASE WHEN Name IS NULL THEN 1 ELSE 0 END) AS Missing_Names,\n",
    "    SUM(CASE WHEN Author IS NULL THEN 1 ELSE 0 END) AS Missing_Authors,\n",
    "    SUM(CASE WHEN 'User Rating' IS NULL THEN 1 ELSE 0 END) AS Missing_User_Ratings,\n",
    "    SUM(CASE WHEN Reviews IS NULL THEN 1 ELSE 0 END) AS Missing_Reviews,\n",
    "    SUM(CASE WHEN Price IS NULL THEN 1 ELSE 0 END) AS Missing_Prices,\n",
    "    SUM(CASE WHEN Year IS NULL THEN 1 ELSE 0 END) AS MIssing_Years,\n",
    "    SUM(CASE WHEN Genre IS NULL THEN 1 ELSE 0 END) AS Missing_Genres\n",
    "    FROM bestsellers;\"\"\"\n",
    "\n",
    "missing_values = pd.read_sql_query(query, connection)\n",
    "print(missing_values)"
   ]
  },
  {
   "cell_type": "code",
   "execution_count": 4,
   "id": "60a31100",
   "metadata": {},
   "outputs": [],
   "source": [
    "#removing rows with missing names\n",
    "remove_missing_name_query = \"\"\"\n",
    "DELETE FROM bestsellers\n",
    "WHERE Name IS NULL;\n",
    "\"\"\"\n",
    "connection.execute(remove_missing_name_query)\n",
    "connection.commit()\n"
   ]
  },
  {
   "cell_type": "code",
   "execution_count": 5,
   "id": "40f918e5",
   "metadata": {},
   "outputs": [],
   "source": [
    "#Remove Duplicates\n",
    "remove_duplicates_query = \"\"\"\n",
    "DELETE FROM bestsellers\n",
    "WHERE rowid NOT IN (\n",
    "    SELECT MIN(rowid)\n",
    "    FROM bestsellers\n",
    "    GROUP BY Name, Author, Year, 'User Rating', Reviews, Price, Genre)\"\"\"\n",
    "\n",
    "connection.execute(remove_duplicates_query)\n",
    "connection.commit()\n"
   ]
  },
  {
   "cell_type": "code",
   "execution_count": 6,
   "id": "5f5188d9",
   "metadata": {},
   "outputs": [
    {
     "name": "stdout",
     "output_type": "stream",
     "text": [
      "                                                Name  \\\n",
      "0                      10-Day Green Smoothie Cleanse   \n",
      "1                                  11/22/63: A Novel   \n",
      "2            12 Rules for Life: An Antidote to Chaos   \n",
      "3                             1984 (Signet Classics)   \n",
      "4  5,000 Awesome Facts (About Everything!) (Natio...   \n",
      "5      A Dance with Dragons (A Song of Ice and Fire)   \n",
      "6  A Game of Thrones / A Clash of Kings / A Storm...   \n",
      "7                     A Gentleman in Moscow: A Novel   \n",
      "8      A Higher Loyalty: Truth, Lies, and Leadership   \n",
      "9                          A Man Called Ove: A Novel   \n",
      "\n",
      "                     Author  User Rating  Reviews  Price  Year        Genre  \n",
      "0                  JJ Smith          4.7    17350      8  2016  Non Fiction  \n",
      "1              Stephen King          4.6     2052     22  2011      Fiction  \n",
      "2        Jordan B. Peterson          4.7    18979     15  2018  Non Fiction  \n",
      "3             George Orwell          4.7    21424      6  2017      Fiction  \n",
      "4  National Geographic Kids          4.8     7665     12  2019  Non Fiction  \n",
      "5       George R. R. Martin          4.4    12643     11  2011      Fiction  \n",
      "6       George R. R. Martin          4.7    19735     30  2014      Fiction  \n",
      "7               Amor Towles          4.7    19699     15  2017      Fiction  \n",
      "8               James Comey          4.7     5983      3  2018  Non Fiction  \n",
      "9           Fredrik Backman          4.6    23848      8  2016      Fiction  \n"
     ]
    }
   ],
   "source": [
    "query = \"SELECT * FROM bestsellers LIMIT 10\"\n",
    "clean_data_sample = pd.read_sql_query(query, connection)\n",
    "print(clean_data_sample)"
   ]
  },
  {
   "cell_type": "markdown",
   "id": "04bfcd91",
   "metadata": {},
   "source": [
    "<font size=5><b>What are the top 5 highest rated books?</b></font>"
   ]
  },
  {
   "cell_type": "code",
   "execution_count": 7,
   "id": "e2da34b7",
   "metadata": {},
   "outputs": [
    {
     "name": "stdout",
     "output_type": "stream",
     "text": [
      "                      Name          Author  User Rating  Reviews  Price  Year  \\\n",
      "0  Where the Crawdads Sing     Delia Owens          4.8    87841     15  2019   \n",
      "1    The Girl on the Train   Paula Hawkins          4.1    79446     18  2015   \n",
      "2    The Girl on the Train   Paula Hawkins          4.1    79446      7  2016   \n",
      "3                 Becoming  Michelle Obama          4.8    61133     11  2018   \n",
      "4                 Becoming  Michelle Obama          4.8    61133     11  2019   \n",
      "5                Gone Girl   Gillian Flynn          4.0    57271     10  2012   \n",
      "6                Gone Girl   Gillian Flynn          4.0    57271     10  2013   \n",
      "7                Gone Girl   Gillian Flynn          4.0    57271      9  2014   \n",
      "8   The Fault in Our Stars      John Green          4.7    50482     13  2012   \n",
      "9   The Fault in Our Stars      John Green          4.7    50482     13  2013   \n",
      "\n",
      "         Genre  \n",
      "0      Fiction  \n",
      "1      Fiction  \n",
      "2      Fiction  \n",
      "3  Non Fiction  \n",
      "4  Non Fiction  \n",
      "5      Fiction  \n",
      "6      Fiction  \n",
      "7      Fiction  \n",
      "8      Fiction  \n",
      "9      Fiction  \n"
     ]
    }
   ],
   "source": [
    "query = \"\"\"\n",
    "SELECT *\n",
    "FROM bestsellers\n",
    "ORDER BY 'User Rating' DESC, Reviews DESC \n",
    "LIMIT 10;\"\"\"\n",
    "\n",
    "top_rated_books = pd.read_sql_query(query, connection)\n",
    "print(top_rated_books)"
   ]
  },
  {
   "cell_type": "markdown",
   "id": "cbab99a7",
   "metadata": {},
   "source": [
    "<font size=3><b>Answer:  The top 5 books are \"Where the Crawdads Sing\", \n",
    "    \"The Girl on the Train\", \"Becoming Michelle Obama\", \"Gone Girl\", and last \"The Fault in Our Stars\".</b></font>"
   ]
  },
  {
   "cell_type": "markdown",
   "id": "6fae3caf",
   "metadata": {},
   "source": [
    "<font size=5><b>Which authors have the most books in the bestsellers list?</b></font>"
   ]
  },
  {
   "cell_type": "code",
   "execution_count": 8,
   "id": "8434a2e4",
   "metadata": {},
   "outputs": [
    {
     "name": "stdout",
     "output_type": "stream",
     "text": [
      "             Author  Number of Books\n",
      "0      Zhi Gang Sha                2\n",
      "1  Wizards RPG Team                3\n",
      "2  William P. Young                2\n",
      "3     William Davis                2\n",
      "4   Walter Isaacson                3\n"
     ]
    }
   ],
   "source": [
    "query = \"\"\"\n",
    "SELECT Author, COUNT(*) as 'Number of Books'\n",
    "FROM bestsellers\n",
    "GROUP BY Author\n",
    "ORDER BY 'Number of Books' DESC\n",
    "LIMIT 5\"\"\"\n",
    "\n",
    "most_books_authors = pd.read_sql_query(query, connection)\n",
    "print(most_books_authors)"
   ]
  },
  {
   "cell_type": "markdown",
   "id": "28b670d8",
   "metadata": {},
   "source": [
    "<font size= 3><b>Answer: Zhi Gang Sha, Wizards RPG Team, William p. Young, William Davis, and Walter Issacson</b></font>"
   ]
  },
  {
   "cell_type": "markdown",
   "id": "8fdd4a77",
   "metadata": {},
   "source": [
    "<font size=5><b> How does the average user vary between Fiction and Non-Fiction?</b></font>"
   ]
  },
  {
   "cell_type": "code",
   "execution_count": 9,
   "id": "3b1365cc",
   "metadata": {},
   "outputs": [
    {
     "name": "stdout",
     "output_type": "stream",
     "text": [
      "         Genre  Average Rating\n",
      "0      Fiction        4.648333\n",
      "1  Non Fiction        4.595161\n"
     ]
    }
   ],
   "source": [
    "\n",
    "query = \"\"\"\n",
    "SELECT Genre, AVG(`User Rating`) as `Average Rating`\n",
    "FROM bestsellers\n",
    "GROUP BY Genre;\n",
    "\"\"\"\n",
    "\n",
    "avg_rating_genre = pd.read_sql_query(query, connection)\n",
    "print(avg_rating_genre)\n"
   ]
  },
  {
   "cell_type": "markdown",
   "id": "c01919a3",
   "metadata": {},
   "source": [
    "<font size=3><b>Answer: The average rating for the Fiction genre is 4.6, and the average rating for the Non-Fiction genre</b></font>"
   ]
  },
  {
   "cell_type": "markdown",
   "id": "083cdf4d",
   "metadata": {},
   "source": [
    "<font size=5><b>What is the average price of books per year?</b></font>"
   ]
  },
  {
   "cell_type": "code",
   "execution_count": 10,
   "id": "37664afe",
   "metadata": {},
   "outputs": [
    {
     "name": "stdout",
     "output_type": "stream",
     "text": [
      "    Year  Average Price\n",
      "0   2009          15.40\n",
      "1   2010          13.48\n",
      "2   2011          15.10\n",
      "3   2012          15.30\n",
      "4   2013          14.60\n",
      "5   2014          14.64\n",
      "6   2015          10.42\n",
      "7   2016          13.18\n",
      "8   2017          11.38\n",
      "9   2018          10.52\n",
      "10  2019          10.08\n"
     ]
    }
   ],
   "source": [
    "query = \"\"\"\n",
    "SELECT Year, AVG(Price) as `Average Price`\n",
    "FROM bestsellers\n",
    "GROUP BY Year\n",
    "ORDER BY Year;\n",
    "\"\"\"\n",
    "avg_price_year = pd.read_sql_query(query, connection)\n",
    "print(avg_price_year)"
   ]
  },
  {
   "cell_type": "markdown",
   "id": "b906c065",
   "metadata": {},
   "source": [
    "<font size=5><b>What is the number of best_selling books per genre each year?</b></font>"
   ]
  },
  {
   "cell_type": "code",
   "execution_count": 11,
   "id": "61315337",
   "metadata": {},
   "outputs": [
    {
     "name": "stdout",
     "output_type": "stream",
     "text": [
      "    Year        Genre  Number of Books\n",
      "0   2009      Fiction               24\n",
      "1   2009  Non Fiction               26\n",
      "2   2010      Fiction               20\n",
      "3   2010  Non Fiction               30\n",
      "4   2011      Fiction               21\n",
      "5   2011  Non Fiction               29\n",
      "6   2012      Fiction               21\n",
      "7   2012  Non Fiction               29\n",
      "8   2013      Fiction               24\n",
      "9   2013  Non Fiction               26\n",
      "10  2014      Fiction               29\n",
      "11  2014  Non Fiction               21\n",
      "12  2015      Fiction               17\n",
      "13  2015  Non Fiction               33\n",
      "14  2016      Fiction               19\n",
      "15  2016  Non Fiction               31\n",
      "16  2017      Fiction               24\n",
      "17  2017  Non Fiction               26\n",
      "18  2018      Fiction               21\n",
      "19  2018  Non Fiction               29\n",
      "20  2019      Fiction               20\n",
      "21  2019  Non Fiction               30\n"
     ]
    }
   ],
   "source": [
    "query = \"\"\"\n",
    "SELECT Year, Genre, COUNT(*) as 'Number of Books'\n",
    "FROM bestsellers\n",
    "GROUP BY Year, Genre\n",
    "ORDER By Year, Genre;\"\"\"\n",
    "\n",
    "books_per_genre_year = pd.read_sql_query(query, connection)\n",
    "print(books_per_genre_year)"
   ]
  },
  {
   "cell_type": "code",
   "execution_count": 12,
   "id": "41736348",
   "metadata": {},
   "outputs": [],
   "source": [
    "connection.close()"
   ]
  },
  {
   "cell_type": "markdown",
   "id": "8f34fe55",
   "metadata": {},
   "source": [
    "<font size=5><b>Thank you for viewing my Data Analysis of Top 50 best selling books on Amazon from 2009 - 2011.</b></font>"
   ]
  }
 ],
 "metadata": {
  "kernelspec": {
   "display_name": "Python 3 (ipykernel)",
   "language": "python",
   "name": "python3"
  },
  "language_info": {
   "codemirror_mode": {
    "name": "ipython",
    "version": 3
   },
   "file_extension": ".py",
   "mimetype": "text/x-python",
   "name": "python",
   "nbconvert_exporter": "python",
   "pygments_lexer": "ipython3",
   "version": "3.9.13"
  }
 },
 "nbformat": 4,
 "nbformat_minor": 5
}
